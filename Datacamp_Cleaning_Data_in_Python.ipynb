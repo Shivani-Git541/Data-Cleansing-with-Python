{
  "nbformat": 4,
  "nbformat_minor": 0,
  "metadata": {
    "colab": {
      "name": "Datacamp-Cleaning Data in Python.ipynb",
      "provenance": [],
      "include_colab_link": true
    },
    "kernelspec": {
      "name": "python3",
      "display_name": "Python 3"
    }
  },
  "cells": [
    {
      "cell_type": "markdown",
      "metadata": {
        "id": "view-in-github",
        "colab_type": "text"
      },
      "source": [
        "<a href=\"https://colab.research.google.com/github/Shivani-Shreyas/Data-Cleansing-with-Python/blob/master/Datacamp_Cleaning_Data_in_Python.ipynb\" target=\"_parent\"><img src=\"https://colab.research.google.com/assets/colab-badge.svg\" alt=\"Open In Colab\"/></a>"
      ]
    },
    {
      "cell_type": "markdown",
      "metadata": {
        "id": "6Ijg5wUCTQYG",
        "colab_type": "text"
      },
      "source": [
        "<p align=\"center\">\n",
        "<img src=\"https://cdn.datacamp.com/main-app/assets/brand/datacamp-horizontal-rgb-b641f95b7bdd7560b554c761a0b4910f9619907dd823c0e41244ed72078723bf.svg\" alt = \"DataCamp icon\" width=\"50%\">\n",
        "</p>\n",
        "<br><br>\n",
        "\n",
        "## **Cleaning Data in Python live training**\n",
        "\n",
        "\n",
        "Welcome to this live, hands-on training where you will learn how to effectively diagnose and treat missing data in Python.\n",
        "\n",
        "The majority of data science work often revolves around pre-processing data, and making sure it's ready for analysis. In this session, we will be covering how transform our raw data into accurate insights. In this notebook, you will learn:\n",
        "\n",
        "* Import data into `pandas`, and use simple functions to diagnose problems in our data.\n",
        "* Visualize missing and out of range data using `missingno` and `seaborn`.\n",
        "* Apply a range of data cleaning tasks that will ensure the delivery of accurate insights.\n",
        "\n",
        "## **The Dataset**\n",
        "\n",
        "The dataset to be used in this webinar is a CSV file named `airbnb.csv`, which contains data on airbnb listings in the state of New York. It contains the following columns:\n",
        "\n",
        "- `listing_id`: The unique identifier for a listing\n",
        "- `description`: The description used on the listing\n",
        "- `host_id`: Unique identifier for a host\n",
        "- `host_name`: Name of host\n",
        "- `neighbourhood_full`: Name of boroughs and neighbourhoods\n",
        "- `coordinates`: Coordinates of listing _(latitude, longitude)_\n",
        "- `Listing added`: Date of added listing\n",
        "- `room_type`: Type of room \n",
        "- `rating`: Rating from 0 to 5.\n",
        "- `price`: Price per night for listing\n",
        "- `number_of_reviews`: Amount of reviews received \n",
        "- `last_review`: Date of last review\n",
        "- `reviews_per_month`: Number of reviews per month\n",
        "- `availability_365`: Number of days available per year\n",
        "- `Number of stays`: Total number of stays thus far\n"
      ]
    },
    {
      "cell_type": "markdown",
      "metadata": {
        "id": "BMYfcKeDY85K",
        "colab_type": "text"
      },
      "source": [
        "## **Getting started**"
      ]
    },
    {
      "cell_type": "code",
      "metadata": {
        "id": "EMQfyC7GUNhT",
        "colab_type": "code",
        "outputId": "d736ab37-6e62-4f5c-a079-af0630865577",
        "colab": {
          "base_uri": "https://localhost:8080/",
          "height": 72
        }
      },
      "source": [
        "# Import libraries\n",
        "import pandas as pd\n",
        "import matplotlib.pyplot as plt\n",
        "import numpy as np\n",
        "import seaborn as sns\n",
        "import datetime as dt\n",
        "import missingno as msno\n",
        "import datetime as dt"
      ],
      "execution_count": 0,
      "outputs": [
        {
          "output_type": "stream",
          "text": [
            "/usr/local/lib/python3.6/dist-packages/statsmodels/tools/_testing.py:19: FutureWarning: pandas.util.testing is deprecated. Use the functions in the public API at pandas.testing instead.\n",
            "  import pandas.util.testing as tm\n"
          ],
          "name": "stderr"
        }
      ]
    },
    {
      "cell_type": "code",
      "metadata": {
        "id": "l8t_EwRNZPLB",
        "colab_type": "code",
        "colab": {}
      },
      "source": [
        "# Read in the dataset\n",
        "airbnb = pd.read_csv('https://github.com/adelnehme/python-for-spreadsheet-users-webinar/blob/master/datasets/airbnb.csv?raw=true', index_col = 'Unnamed: 0')"
      ],
      "execution_count": 0,
      "outputs": []
    },
    {
      "cell_type": "markdown",
      "metadata": {
        "id": "1ui1uvtyZwfQ",
        "colab_type": "text"
      },
      "source": [
        "## **Diagnosing data cleaning problems using simple `pandas` and visualizations** "
      ]
    },
    {
      "cell_type": "markdown",
      "metadata": {
        "id": "t3fgtos4Z6Xa",
        "colab_type": "text"
      },
      "source": [
        "Some important and common methods needed to get a better understanding of DataFrames and diagnose potential data problems are the following: \n",
        "\n",
        "- `.head()` prints the header of a DataFrame\n",
        "- `.dtypes` prints datatypes of all columns in a DataFrame\n",
        "- `.info()` provides a bird's eye view of column data types and missing values in a DataFrame\n",
        "- `.describe()` returns a distribution of numeric columns in your DataFrame\n",
        "- `.isna().sum()` allows us to break down the number of missing values per column in our DataFrame\n",
        "- `.unique()` finds the number of unique values in a DataFrame column\n",
        "\n",
        "<br>\n",
        "\n",
        "- `sns.displot()` plots the distribution of one column in your DataFrame."
      ]
    },
    {
      "cell_type": "code",
      "metadata": {
        "id": "x3w1WbkFZ-ig",
        "colab_type": "code",
        "outputId": "4639d0c2-ff4b-4f4c-e423-4247dd9603c0",
        "colab": {
          "base_uri": "https://localhost:8080/",
          "height": 482
        }
      },
      "source": [
        "# Print the header of the DataFrame\n",
        "airbnb.head()"
      ],
      "execution_count": 0,
      "outputs": [
        {
          "output_type": "execute_result",
          "data": {
            "text/html": [
              "<div>\n",
              "<style scoped>\n",
              "    .dataframe tbody tr th:only-of-type {\n",
              "        vertical-align: middle;\n",
              "    }\n",
              "\n",
              "    .dataframe tbody tr th {\n",
              "        vertical-align: top;\n",
              "    }\n",
              "\n",
              "    .dataframe thead th {\n",
              "        text-align: right;\n",
              "    }\n",
              "</style>\n",
              "<table border=\"1\" class=\"dataframe\">\n",
              "  <thead>\n",
              "    <tr style=\"text-align: right;\">\n",
              "      <th></th>\n",
              "      <th>listing_id</th>\n",
              "      <th>name</th>\n",
              "      <th>host_id</th>\n",
              "      <th>host_name</th>\n",
              "      <th>neighbourhood_full</th>\n",
              "      <th>coordinates</th>\n",
              "      <th>room_type</th>\n",
              "      <th>price</th>\n",
              "      <th>number_of_reviews</th>\n",
              "      <th>last_review</th>\n",
              "      <th>reviews_per_month</th>\n",
              "      <th>availability_365</th>\n",
              "      <th>rating</th>\n",
              "      <th>number_of_stays</th>\n",
              "      <th>5_stars</th>\n",
              "      <th>listing_added</th>\n",
              "    </tr>\n",
              "  </thead>\n",
              "  <tbody>\n",
              "    <tr>\n",
              "      <th>0</th>\n",
              "      <td>13740704</td>\n",
              "      <td>Cozy,budget friendly, cable inc, private entra...</td>\n",
              "      <td>20583125</td>\n",
              "      <td>Michel</td>\n",
              "      <td>Brooklyn, Flatlands</td>\n",
              "      <td>(40.63222, -73.93398)</td>\n",
              "      <td>Private room</td>\n",
              "      <td>45$</td>\n",
              "      <td>10</td>\n",
              "      <td>2018-12-12</td>\n",
              "      <td>0.70</td>\n",
              "      <td>85</td>\n",
              "      <td>4.100954</td>\n",
              "      <td>12.0</td>\n",
              "      <td>0.609432</td>\n",
              "      <td>2018-06-08</td>\n",
              "    </tr>\n",
              "    <tr>\n",
              "      <th>1</th>\n",
              "      <td>22005115</td>\n",
              "      <td>Two floor apartment near Central Park</td>\n",
              "      <td>82746113</td>\n",
              "      <td>Cecilia</td>\n",
              "      <td>Manhattan, Upper West Side</td>\n",
              "      <td>(40.78761, -73.96862)</td>\n",
              "      <td>Entire home/apt</td>\n",
              "      <td>135$</td>\n",
              "      <td>1</td>\n",
              "      <td>2019-06-30</td>\n",
              "      <td>1.00</td>\n",
              "      <td>145</td>\n",
              "      <td>3.367600</td>\n",
              "      <td>1.2</td>\n",
              "      <td>0.746135</td>\n",
              "      <td>2018-12-25</td>\n",
              "    </tr>\n",
              "    <tr>\n",
              "      <th>2</th>\n",
              "      <td>21667615</td>\n",
              "      <td>Beautiful 1BR in Brooklyn Heights</td>\n",
              "      <td>78251</td>\n",
              "      <td>Leslie</td>\n",
              "      <td>Brooklyn, Brooklyn Heights</td>\n",
              "      <td>(40.7007, -73.99517)</td>\n",
              "      <td>Entire home/apt</td>\n",
              "      <td>150$</td>\n",
              "      <td>0</td>\n",
              "      <td>NaN</td>\n",
              "      <td>NaN</td>\n",
              "      <td>65</td>\n",
              "      <td>NaN</td>\n",
              "      <td>NaN</td>\n",
              "      <td>NaN</td>\n",
              "      <td>2018-08-15</td>\n",
              "    </tr>\n",
              "    <tr>\n",
              "      <th>3</th>\n",
              "      <td>6425850</td>\n",
              "      <td>Spacious, charming studio</td>\n",
              "      <td>32715865</td>\n",
              "      <td>Yelena</td>\n",
              "      <td>Manhattan, Upper West Side</td>\n",
              "      <td>(40.79169, -73.97498)</td>\n",
              "      <td>Entire home/apt</td>\n",
              "      <td>86$</td>\n",
              "      <td>5</td>\n",
              "      <td>2017-09-23</td>\n",
              "      <td>0.13</td>\n",
              "      <td>0</td>\n",
              "      <td>4.763203</td>\n",
              "      <td>6.0</td>\n",
              "      <td>0.769947</td>\n",
              "      <td>2017-03-20</td>\n",
              "    </tr>\n",
              "    <tr>\n",
              "      <th>4</th>\n",
              "      <td>22986519</td>\n",
              "      <td>Bedroom on the lively Lower East Side</td>\n",
              "      <td>154262349</td>\n",
              "      <td>Brooke</td>\n",
              "      <td>Manhattan, Lower East Side</td>\n",
              "      <td>(40.71884, -73.98354)</td>\n",
              "      <td>Private room</td>\n",
              "      <td>160$</td>\n",
              "      <td>23</td>\n",
              "      <td>2019-06-12</td>\n",
              "      <td>2.29</td>\n",
              "      <td>102</td>\n",
              "      <td>3.822591</td>\n",
              "      <td>27.6</td>\n",
              "      <td>0.649383</td>\n",
              "      <td>2020-10-23</td>\n",
              "    </tr>\n",
              "  </tbody>\n",
              "</table>\n",
              "</div>"
            ],
            "text/plain": [
              "   listing_id  ... listing_added\n",
              "0    13740704  ...    2018-06-08\n",
              "1    22005115  ...    2018-12-25\n",
              "2    21667615  ...    2018-08-15\n",
              "3     6425850  ...    2017-03-20\n",
              "4    22986519  ...    2020-10-23\n",
              "\n",
              "[5 rows x 16 columns]"
            ]
          },
          "metadata": {
            "tags": []
          },
          "execution_count": 4
        }
      ]
    },
    {
      "cell_type": "code",
      "metadata": {
        "id": "SiWS3EiPakp2",
        "colab_type": "code",
        "outputId": "5a3f0b60-da0a-4439-fe22-93e703598f23",
        "colab": {
          "base_uri": "https://localhost:8080/",
          "height": 312
        }
      },
      "source": [
        "# Print data types of DataFrame\n",
        "airbnb.dtypes"
      ],
      "execution_count": 0,
      "outputs": [
        {
          "output_type": "execute_result",
          "data": {
            "text/plain": [
              "listing_id              int64\n",
              "name                   object\n",
              "host_id                 int64\n",
              "host_name              object\n",
              "neighbourhood_full     object\n",
              "coordinates            object\n",
              "room_type              object\n",
              "price                  object\n",
              "number_of_reviews       int64\n",
              "last_review            object\n",
              "reviews_per_month     float64\n",
              "availability_365        int64\n",
              "rating                float64\n",
              "number_of_stays       float64\n",
              "5_stars               float64\n",
              "listing_added          object\n",
              "dtype: object"
            ]
          },
          "metadata": {
            "tags": []
          },
          "execution_count": 5
        }
      ]
    },
    {
      "cell_type": "code",
      "metadata": {
        "id": "KoT5LMdSiW1H",
        "colab_type": "code",
        "outputId": "0b22d82e-a3bd-4973-9c2c-f678d1fc3b3a",
        "colab": {
          "base_uri": "https://localhost:8080/",
          "height": 416
        }
      },
      "source": [
        "# Print info of DataFrame\n",
        "airbnb.info()"
      ],
      "execution_count": 0,
      "outputs": [
        {
          "output_type": "stream",
          "text": [
            "<class 'pandas.core.frame.DataFrame'>\n",
            "Int64Index: 10019 entries, 0 to 10018\n",
            "Data columns (total 16 columns):\n",
            " #   Column              Non-Null Count  Dtype  \n",
            "---  ------              --------------  -----  \n",
            " 0   listing_id          10019 non-null  int64  \n",
            " 1   name                10014 non-null  object \n",
            " 2   host_id             10019 non-null  int64  \n",
            " 3   host_name           10017 non-null  object \n",
            " 4   neighbourhood_full  10019 non-null  object \n",
            " 5   coordinates         10019 non-null  object \n",
            " 6   room_type           10019 non-null  object \n",
            " 7   price               9781 non-null   object \n",
            " 8   number_of_reviews   10019 non-null  int64  \n",
            " 9   last_review         7944 non-null   object \n",
            " 10  reviews_per_month   7944 non-null   float64\n",
            " 11  availability_365    10019 non-null  int64  \n",
            " 12  rating              7944 non-null   float64\n",
            " 13  number_of_stays     7944 non-null   float64\n",
            " 14  5_stars             7944 non-null   float64\n",
            " 15  listing_added       10019 non-null  object \n",
            "dtypes: float64(4), int64(4), object(8)\n",
            "memory usage: 1.3+ MB\n"
          ],
          "name": "stdout"
        }
      ]
    },
    {
      "cell_type": "code",
      "metadata": {
        "id": "dvsinK9zexdv",
        "colab_type": "code",
        "outputId": "fa742380-096d-472e-e039-0d5b252c3903",
        "colab": {
          "base_uri": "https://localhost:8080/",
          "height": 435
        }
      },
      "source": [
        "# Print number of missing values\n",
        "airbnb.isna()"
      ],
      "execution_count": 0,
      "outputs": [
        {
          "output_type": "execute_result",
          "data": {
            "text/html": [
              "<div>\n",
              "<style scoped>\n",
              "    .dataframe tbody tr th:only-of-type {\n",
              "        vertical-align: middle;\n",
              "    }\n",
              "\n",
              "    .dataframe tbody tr th {\n",
              "        vertical-align: top;\n",
              "    }\n",
              "\n",
              "    .dataframe thead th {\n",
              "        text-align: right;\n",
              "    }\n",
              "</style>\n",
              "<table border=\"1\" class=\"dataframe\">\n",
              "  <thead>\n",
              "    <tr style=\"text-align: right;\">\n",
              "      <th></th>\n",
              "      <th>listing_id</th>\n",
              "      <th>name</th>\n",
              "      <th>host_id</th>\n",
              "      <th>host_name</th>\n",
              "      <th>neighbourhood_full</th>\n",
              "      <th>coordinates</th>\n",
              "      <th>room_type</th>\n",
              "      <th>price</th>\n",
              "      <th>number_of_reviews</th>\n",
              "      <th>last_review</th>\n",
              "      <th>reviews_per_month</th>\n",
              "      <th>availability_365</th>\n",
              "      <th>rating</th>\n",
              "      <th>number_of_stays</th>\n",
              "      <th>5_stars</th>\n",
              "      <th>listing_added</th>\n",
              "    </tr>\n",
              "  </thead>\n",
              "  <tbody>\n",
              "    <tr>\n",
              "      <th>0</th>\n",
              "      <td>False</td>\n",
              "      <td>False</td>\n",
              "      <td>False</td>\n",
              "      <td>False</td>\n",
              "      <td>False</td>\n",
              "      <td>False</td>\n",
              "      <td>False</td>\n",
              "      <td>False</td>\n",
              "      <td>False</td>\n",
              "      <td>False</td>\n",
              "      <td>False</td>\n",
              "      <td>False</td>\n",
              "      <td>False</td>\n",
              "      <td>False</td>\n",
              "      <td>False</td>\n",
              "      <td>False</td>\n",
              "    </tr>\n",
              "    <tr>\n",
              "      <th>1</th>\n",
              "      <td>False</td>\n",
              "      <td>False</td>\n",
              "      <td>False</td>\n",
              "      <td>False</td>\n",
              "      <td>False</td>\n",
              "      <td>False</td>\n",
              "      <td>False</td>\n",
              "      <td>False</td>\n",
              "      <td>False</td>\n",
              "      <td>False</td>\n",
              "      <td>False</td>\n",
              "      <td>False</td>\n",
              "      <td>False</td>\n",
              "      <td>False</td>\n",
              "      <td>False</td>\n",
              "      <td>False</td>\n",
              "    </tr>\n",
              "    <tr>\n",
              "      <th>2</th>\n",
              "      <td>False</td>\n",
              "      <td>False</td>\n",
              "      <td>False</td>\n",
              "      <td>False</td>\n",
              "      <td>False</td>\n",
              "      <td>False</td>\n",
              "      <td>False</td>\n",
              "      <td>False</td>\n",
              "      <td>False</td>\n",
              "      <td>True</td>\n",
              "      <td>True</td>\n",
              "      <td>False</td>\n",
              "      <td>True</td>\n",
              "      <td>True</td>\n",
              "      <td>True</td>\n",
              "      <td>False</td>\n",
              "    </tr>\n",
              "    <tr>\n",
              "      <th>3</th>\n",
              "      <td>False</td>\n",
              "      <td>False</td>\n",
              "      <td>False</td>\n",
              "      <td>False</td>\n",
              "      <td>False</td>\n",
              "      <td>False</td>\n",
              "      <td>False</td>\n",
              "      <td>False</td>\n",
              "      <td>False</td>\n",
              "      <td>False</td>\n",
              "      <td>False</td>\n",
              "      <td>False</td>\n",
              "      <td>False</td>\n",
              "      <td>False</td>\n",
              "      <td>False</td>\n",
              "      <td>False</td>\n",
              "    </tr>\n",
              "    <tr>\n",
              "      <th>4</th>\n",
              "      <td>False</td>\n",
              "      <td>False</td>\n",
              "      <td>False</td>\n",
              "      <td>False</td>\n",
              "      <td>False</td>\n",
              "      <td>False</td>\n",
              "      <td>False</td>\n",
              "      <td>False</td>\n",
              "      <td>False</td>\n",
              "      <td>False</td>\n",
              "      <td>False</td>\n",
              "      <td>False</td>\n",
              "      <td>False</td>\n",
              "      <td>False</td>\n",
              "      <td>False</td>\n",
              "      <td>False</td>\n",
              "    </tr>\n",
              "    <tr>\n",
              "      <th>...</th>\n",
              "      <td>...</td>\n",
              "      <td>...</td>\n",
              "      <td>...</td>\n",
              "      <td>...</td>\n",
              "      <td>...</td>\n",
              "      <td>...</td>\n",
              "      <td>...</td>\n",
              "      <td>...</td>\n",
              "      <td>...</td>\n",
              "      <td>...</td>\n",
              "      <td>...</td>\n",
              "      <td>...</td>\n",
              "      <td>...</td>\n",
              "      <td>...</td>\n",
              "      <td>...</td>\n",
              "      <td>...</td>\n",
              "    </tr>\n",
              "    <tr>\n",
              "      <th>10014</th>\n",
              "      <td>False</td>\n",
              "      <td>False</td>\n",
              "      <td>False</td>\n",
              "      <td>False</td>\n",
              "      <td>False</td>\n",
              "      <td>False</td>\n",
              "      <td>False</td>\n",
              "      <td>False</td>\n",
              "      <td>False</td>\n",
              "      <td>False</td>\n",
              "      <td>False</td>\n",
              "      <td>False</td>\n",
              "      <td>False</td>\n",
              "      <td>False</td>\n",
              "      <td>False</td>\n",
              "      <td>False</td>\n",
              "    </tr>\n",
              "    <tr>\n",
              "      <th>10015</th>\n",
              "      <td>False</td>\n",
              "      <td>False</td>\n",
              "      <td>False</td>\n",
              "      <td>False</td>\n",
              "      <td>False</td>\n",
              "      <td>False</td>\n",
              "      <td>False</td>\n",
              "      <td>False</td>\n",
              "      <td>False</td>\n",
              "      <td>False</td>\n",
              "      <td>False</td>\n",
              "      <td>False</td>\n",
              "      <td>False</td>\n",
              "      <td>False</td>\n",
              "      <td>False</td>\n",
              "      <td>False</td>\n",
              "    </tr>\n",
              "    <tr>\n",
              "      <th>10016</th>\n",
              "      <td>False</td>\n",
              "      <td>False</td>\n",
              "      <td>False</td>\n",
              "      <td>False</td>\n",
              "      <td>False</td>\n",
              "      <td>False</td>\n",
              "      <td>False</td>\n",
              "      <td>False</td>\n",
              "      <td>False</td>\n",
              "      <td>False</td>\n",
              "      <td>False</td>\n",
              "      <td>False</td>\n",
              "      <td>False</td>\n",
              "      <td>False</td>\n",
              "      <td>False</td>\n",
              "      <td>False</td>\n",
              "    </tr>\n",
              "    <tr>\n",
              "      <th>10017</th>\n",
              "      <td>False</td>\n",
              "      <td>False</td>\n",
              "      <td>False</td>\n",
              "      <td>False</td>\n",
              "      <td>False</td>\n",
              "      <td>False</td>\n",
              "      <td>False</td>\n",
              "      <td>False</td>\n",
              "      <td>False</td>\n",
              "      <td>False</td>\n",
              "      <td>False</td>\n",
              "      <td>False</td>\n",
              "      <td>False</td>\n",
              "      <td>False</td>\n",
              "      <td>False</td>\n",
              "      <td>False</td>\n",
              "    </tr>\n",
              "    <tr>\n",
              "      <th>10018</th>\n",
              "      <td>False</td>\n",
              "      <td>False</td>\n",
              "      <td>False</td>\n",
              "      <td>False</td>\n",
              "      <td>False</td>\n",
              "      <td>False</td>\n",
              "      <td>False</td>\n",
              "      <td>False</td>\n",
              "      <td>False</td>\n",
              "      <td>False</td>\n",
              "      <td>False</td>\n",
              "      <td>False</td>\n",
              "      <td>False</td>\n",
              "      <td>False</td>\n",
              "      <td>False</td>\n",
              "      <td>False</td>\n",
              "    </tr>\n",
              "  </tbody>\n",
              "</table>\n",
              "<p>10019 rows × 16 columns</p>\n",
              "</div>"
            ],
            "text/plain": [
              "       listing_id   name  host_id  ...  number_of_stays  5_stars  listing_added\n",
              "0           False  False    False  ...            False    False          False\n",
              "1           False  False    False  ...            False    False          False\n",
              "2           False  False    False  ...             True     True          False\n",
              "3           False  False    False  ...            False    False          False\n",
              "4           False  False    False  ...            False    False          False\n",
              "...           ...    ...      ...  ...              ...      ...            ...\n",
              "10014       False  False    False  ...            False    False          False\n",
              "10015       False  False    False  ...            False    False          False\n",
              "10016       False  False    False  ...            False    False          False\n",
              "10017       False  False    False  ...            False    False          False\n",
              "10018       False  False    False  ...            False    False          False\n",
              "\n",
              "[10019 rows x 16 columns]"
            ]
          },
          "metadata": {
            "tags": []
          },
          "execution_count": 7
        }
      ]
    },
    {
      "cell_type": "markdown",
      "metadata": {
        "id": "BLtjk34CgDdF",
        "colab_type": "text"
      },
      "source": [
        "There are a variety of ways of dealing with missing data that is dependent on type of missingness, as well as the business assumptions behind our data - our options could be:\n",
        "\n",
        "- Dropping missing data (if the data dropped does not impact or skew our data)\n",
        "- Setting to missing and impute with statistical measures (median, mean, mode ...)\n",
        "- Imputing with more complex algorithmic/machine learning based approaches\n",
        "- Impute based on business assumptions of our data"
      ]
    },
    {
      "cell_type": "code",
      "metadata": {
        "id": "ydyKeLnKgAHq",
        "colab_type": "code",
        "outputId": "c3528572-df96-44d6-9e86-117824760269",
        "colab": {
          "base_uri": "https://localhost:8080/",
          "height": 294
        }
      },
      "source": [
        "# Print description of DataFrame\n",
        "airbnb.describe()"
      ],
      "execution_count": 0,
      "outputs": [
        {
          "output_type": "execute_result",
          "data": {
            "text/html": [
              "<div>\n",
              "<style scoped>\n",
              "    .dataframe tbody tr th:only-of-type {\n",
              "        vertical-align: middle;\n",
              "    }\n",
              "\n",
              "    .dataframe tbody tr th {\n",
              "        vertical-align: top;\n",
              "    }\n",
              "\n",
              "    .dataframe thead th {\n",
              "        text-align: right;\n",
              "    }\n",
              "</style>\n",
              "<table border=\"1\" class=\"dataframe\">\n",
              "  <thead>\n",
              "    <tr style=\"text-align: right;\">\n",
              "      <th></th>\n",
              "      <th>listing_id</th>\n",
              "      <th>host_id</th>\n",
              "      <th>number_of_reviews</th>\n",
              "      <th>reviews_per_month</th>\n",
              "      <th>availability_365</th>\n",
              "      <th>rating</th>\n",
              "      <th>number_of_stays</th>\n",
              "      <th>5_stars</th>\n",
              "    </tr>\n",
              "  </thead>\n",
              "  <tbody>\n",
              "    <tr>\n",
              "      <th>count</th>\n",
              "      <td>1.001900e+04</td>\n",
              "      <td>1.001900e+04</td>\n",
              "      <td>10019.000000</td>\n",
              "      <td>7944.000000</td>\n",
              "      <td>10019.000000</td>\n",
              "      <td>7944.000000</td>\n",
              "      <td>7944.000000</td>\n",
              "      <td>7944.000000</td>\n",
              "    </tr>\n",
              "    <tr>\n",
              "      <th>mean</th>\n",
              "      <td>1.927634e+07</td>\n",
              "      <td>6.795923e+07</td>\n",
              "      <td>22.459727</td>\n",
              "      <td>1.353894</td>\n",
              "      <td>112.284260</td>\n",
              "      <td>4.014458</td>\n",
              "      <td>33.991541</td>\n",
              "      <td>0.718599</td>\n",
              "    </tr>\n",
              "    <tr>\n",
              "      <th>std</th>\n",
              "      <td>1.095056e+07</td>\n",
              "      <td>7.863106e+07</td>\n",
              "      <td>43.173896</td>\n",
              "      <td>1.615380</td>\n",
              "      <td>131.636043</td>\n",
              "      <td>0.575064</td>\n",
              "      <td>56.089279</td>\n",
              "      <td>0.079978</td>\n",
              "    </tr>\n",
              "    <tr>\n",
              "      <th>min</th>\n",
              "      <td>3.831000e+03</td>\n",
              "      <td>2.787000e+03</td>\n",
              "      <td>0.000000</td>\n",
              "      <td>0.010000</td>\n",
              "      <td>0.000000</td>\n",
              "      <td>3.000633</td>\n",
              "      <td>1.200000</td>\n",
              "      <td>0.600026</td>\n",
              "    </tr>\n",
              "    <tr>\n",
              "      <th>25%</th>\n",
              "      <td>9.674772e+06</td>\n",
              "      <td>7.910880e+06</td>\n",
              "      <td>1.000000</td>\n",
              "      <td>0.200000</td>\n",
              "      <td>0.000000</td>\n",
              "      <td>3.520443</td>\n",
              "      <td>3.600000</td>\n",
              "      <td>0.655576</td>\n",
              "    </tr>\n",
              "    <tr>\n",
              "      <th>50%</th>\n",
              "      <td>2.007030e+07</td>\n",
              "      <td>3.165167e+07</td>\n",
              "      <td>5.000000</td>\n",
              "      <td>0.710000</td>\n",
              "      <td>44.000000</td>\n",
              "      <td>4.027965</td>\n",
              "      <td>10.800000</td>\n",
              "      <td>0.709768</td>\n",
              "    </tr>\n",
              "    <tr>\n",
              "      <th>75%</th>\n",
              "      <td>2.933864e+07</td>\n",
              "      <td>1.074344e+08</td>\n",
              "      <td>22.000000</td>\n",
              "      <td>2.000000</td>\n",
              "      <td>226.000000</td>\n",
              "      <td>4.516378</td>\n",
              "      <td>38.400000</td>\n",
              "      <td>0.763978</td>\n",
              "    </tr>\n",
              "    <tr>\n",
              "      <th>max</th>\n",
              "      <td>3.648724e+07</td>\n",
              "      <td>2.741034e+08</td>\n",
              "      <td>510.000000</td>\n",
              "      <td>16.220000</td>\n",
              "      <td>365.000000</td>\n",
              "      <td>5.181114</td>\n",
              "      <td>612.000000</td>\n",
              "      <td>0.950339</td>\n",
              "    </tr>\n",
              "  </tbody>\n",
              "</table>\n",
              "</div>"
            ],
            "text/plain": [
              "         listing_id       host_id  ...  number_of_stays      5_stars\n",
              "count  1.001900e+04  1.001900e+04  ...      7944.000000  7944.000000\n",
              "mean   1.927634e+07  6.795923e+07  ...        33.991541     0.718599\n",
              "std    1.095056e+07  7.863106e+07  ...        56.089279     0.079978\n",
              "min    3.831000e+03  2.787000e+03  ...         1.200000     0.600026\n",
              "25%    9.674772e+06  7.910880e+06  ...         3.600000     0.655576\n",
              "50%    2.007030e+07  3.165167e+07  ...        10.800000     0.709768\n",
              "75%    2.933864e+07  1.074344e+08  ...        38.400000     0.763978\n",
              "max    3.648724e+07  2.741034e+08  ...       612.000000     0.950339\n",
              "\n",
              "[8 rows x 8 columns]"
            ]
          },
          "metadata": {
            "tags": []
          },
          "execution_count": 8
        }
      ]
    },
    {
      "cell_type": "code",
      "metadata": {
        "id": "VVJat5xZjJLX",
        "colab_type": "code",
        "outputId": "db730a9a-63e2-4ffd-ff1f-f2af513c610e",
        "colab": {
          "base_uri": "https://localhost:8080/",
          "height": 295
        }
      },
      "source": [
        "# Visualize the distribution of the rating column\n",
        "\n",
        "\n",
        "sns.distplot(airbnb['rating'],bins=20)\n",
        "plt.title(\"Distribution of listing ratings\")\n",
        "plt.show()"
      ],
      "execution_count": 0,
      "outputs": [
        {
          "output_type": "display_data",
          "data": {
            "image/png": "[encoded data removed]",
            "text/plain": [
              "<Figure size 432x288 with 1 Axes>"
            ]
          },
          "metadata": {
            "tags": []
          }
        }
      ]
    },
    {
      "cell_type": "code",
      "metadata": {
        "id": "mvJGrqxRjihF",
        "colab_type": "code",
        "outputId": "a032cba7-583c-493a-f9cd-cc91d435b193",
        "colab": {
          "base_uri": "https://localhost:8080/",
          "height": 52
        }
      },
      "source": [
        "# Find number of unique values in room_type column\n",
        "airbnb['room_type'].unique()"
      ],
      "execution_count": 0,
      "outputs": [
        {
          "output_type": "execute_result",
          "data": {
            "text/plain": [
              "array(['Private room', 'Entire home/apt', 'Private', 'Shared room',\n",
              "       'PRIVATE ROOM', 'home', '   Shared room      '], dtype=object)"
            ]
          },
          "metadata": {
            "tags": []
          },
          "execution_count": 13
        }
      ]
    },
    {
      "cell_type": "code",
      "metadata": {
        "id": "tZ0SBerlm2hS",
        "colab_type": "code",
        "outputId": "8859601b-c114-44d0-e8e7-02cc234bf70e",
        "colab": {
          "base_uri": "https://localhost:8080/",
          "height": 156
        }
      },
      "source": [
        "# How many values of different room_types do we have?\n",
        "airbnb['room_type'].value_counts()"
      ],
      "execution_count": 0,
      "outputs": [
        {
          "output_type": "execute_result",
          "data": {
            "text/plain": [
              "Entire home/apt         5120\n",
              "Private room            4487\n",
              "Shared room              155\n",
              "Private                   89\n",
              "   Shared room            71\n",
              "home                      66\n",
              "PRIVATE ROOM              31\n",
              "Name: room_type, dtype: int64"
            ]
          },
          "metadata": {
            "tags": []
          },
          "execution_count": 14
        }
      ]
    },
    {
      "cell_type": "markdown",
      "metadata": {
        "id": "WqwmfLp9lKjU",
        "colab_type": "text"
      },
      "source": [
        "## **Our to do list:**\n",
        "\n",
        "_Data type problems:_\n",
        "\n",
        "- **Task 1**: Split `coordinates` into 2 columns and convert them to `float`\n",
        "- **Task 2**: Remove `$` from `price` and convert it to `float`\n",
        "- **Task 3**: Convert `listing_added` and `last_review` to `datetime`\n",
        "\n",
        "<br>\n",
        "\n",
        "_Text/categorical data problems:_\n",
        "\n",
        "- **Task 4**: We need to collapse `room_type` into correct categories\n",
        "- **Task 5**: Divide `neighbourhood_full` into 2 columns and making sure they are clean\n",
        "\n",
        "<br>\n",
        "\n",
        "_Data range problems:_\n",
        "\n",
        "- **Task 6**: Make sure we set the correct maximum for `rating` column out of range values\n",
        "\n",
        "<br>\n",
        "\n",
        "_Dealing with missing data:_\n",
        "\n",
        "- **Task 7**: Understand the type of missingness, and deal with the missing data in most of the remaining columns. \n",
        "\n",
        "<br>\n",
        "\n",
        "_Is that all though?_\n",
        "\n",
        "- We need to investigate if we duplicates in our data\n",
        "- We need to make sure that data makes sense by applying some sanity checks on our DataFrame "
      ]
    },
    {
      "cell_type": "markdown",
      "metadata": {
        "id": "XxjReNRA09ef",
        "colab_type": "text"
      },
      "source": [
        "## **Q&A**"
      ]
    },
    {
      "cell_type": "markdown",
      "metadata": {
        "id": "8jp5m7QmnCsM",
        "colab_type": "text"
      },
      "source": [
        "## **Cleaning data** "
      ]
    },
    {
      "cell_type": "markdown",
      "metadata": {
        "id": "7rrd0kYCnIYE",
        "colab_type": "text"
      },
      "source": [
        "### Data type problems"
      ]
    },
    {
      "cell_type": "code",
      "metadata": {
        "id": "NawK3x5Tk7HF",
        "colab_type": "code",
        "colab": {}
      },
      "source": [
        "# Reminder of the DataFrame\n"
      ],
      "execution_count": 0,
      "outputs": []
    },
    {
      "cell_type": "markdown",
      "metadata": {
        "id": "3Ev1mCwXniDv",
        "colab_type": "text"
      },
      "source": [
        "##### **Task 1:** Replace `coordinates` with `latitude` and `longitude` columns"
      ]
    },
    {
      "cell_type": "markdown",
      "metadata": {
        "id": "ijAlYOgglvzt",
        "colab_type": "text"
      },
      "source": [
        "To perform this task, we will use the following methods:\n",
        "\n",
        "- `.str.replace(\"\",\"\")` replaces one string in each row of a column with another\n",
        "- `.str.split(\"\")` takes in a string and lets you split a column into two based on that string\n",
        "- `.astype()` lets you convert a column from one type to another"
      ]
    },
    {
      "cell_type": "code",
      "metadata": {
        "id": "UpIxvD_onOgt",
        "colab_type": "code",
        "outputId": "c2bc8e43-5e9e-457f-b753-92be9d458e5c",
        "colab": {
          "base_uri": "https://localhost:8080/",
          "height": 482
        }
      },
      "source": [
        "# Remove \"(\" and \")\" from coordinates\n",
        "\n",
        "airbnb['coordinates']=airbnb['coordinates'].str.replace(\"(\",\"\")\n",
        "airbnb['coordinates']=airbnb['coordinates'].str.replace(\")\",\"\")\n",
        "\n",
        "# Print the header of the column\n",
        "airbnb.head()"
      ],
      "execution_count": 0,
      "outputs": [
        {
          "output_type": "execute_result",
          "data": {
            "text/html": [
              "<div>\n",
              "<style scoped>\n",
              "    .dataframe tbody tr th:only-of-type {\n",
              "        vertical-align: middle;\n",
              "    }\n",
              "\n",
              "    .dataframe tbody tr th {\n",
              "        vertical-align: top;\n",
              "    }\n",
              "\n",
              "    .dataframe thead th {\n",
              "        text-align: right;\n",
              "    }\n",
              "</style>\n",
              "<table border=\"1\" class=\"dataframe\">\n",
              "  <thead>\n",
              "    <tr style=\"text-align: right;\">\n",
              "      <th></th>\n",
              "      <th>listing_id</th>\n",
              "      <th>name</th>\n",
              "      <th>host_id</th>\n",
              "      <th>host_name</th>\n",
              "      <th>neighbourhood_full</th>\n",
              "      <th>coordinates</th>\n",
              "      <th>room_type</th>\n",
              "      <th>price</th>\n",
              "      <th>number_of_reviews</th>\n",
              "      <th>last_review</th>\n",
              "      <th>reviews_per_month</th>\n",
              "      <th>availability_365</th>\n",
              "      <th>rating</th>\n",
              "      <th>number_of_stays</th>\n",
              "      <th>5_stars</th>\n",
              "      <th>listing_added</th>\n",
              "    </tr>\n",
              "  </thead>\n",
              "  <tbody>\n",
              "    <tr>\n",
              "      <th>0</th>\n",
              "      <td>13740704</td>\n",
              "      <td>Cozy,budget friendly, cable inc, private entra...</td>\n",
              "      <td>20583125</td>\n",
              "      <td>Michel</td>\n",
              "      <td>Brooklyn, Flatlands</td>\n",
              "      <td>40.63222, -73.93398</td>\n",
              "      <td>Private room</td>\n",
              "      <td>45$</td>\n",
              "      <td>10</td>\n",
              "      <td>2018-12-12</td>\n",
              "      <td>0.70</td>\n",
              "      <td>85</td>\n",
              "      <td>4.100954</td>\n",
              "      <td>12.0</td>\n",
              "      <td>0.609432</td>\n",
              "      <td>2018-06-08</td>\n",
              "    </tr>\n",
              "    <tr>\n",
              "      <th>1</th>\n",
              "      <td>22005115</td>\n",
              "      <td>Two floor apartment near Central Park</td>\n",
              "      <td>82746113</td>\n",
              "      <td>Cecilia</td>\n",
              "      <td>Manhattan, Upper West Side</td>\n",
              "      <td>40.78761, -73.96862</td>\n",
              "      <td>Entire home/apt</td>\n",
              "      <td>135$</td>\n",
              "      <td>1</td>\n",
              "      <td>2019-06-30</td>\n",
              "      <td>1.00</td>\n",
              "      <td>145</td>\n",
              "      <td>3.367600</td>\n",
              "      <td>1.2</td>\n",
              "      <td>0.746135</td>\n",
              "      <td>2018-12-25</td>\n",
              "    </tr>\n",
              "    <tr>\n",
              "      <th>2</th>\n",
              "      <td>21667615</td>\n",
              "      <td>Beautiful 1BR in Brooklyn Heights</td>\n",
              "      <td>78251</td>\n",
              "      <td>Leslie</td>\n",
              "      <td>Brooklyn, Brooklyn Heights</td>\n",
              "      <td>40.7007, -73.99517</td>\n",
              "      <td>Entire home/apt</td>\n",
              "      <td>150$</td>\n",
              "      <td>0</td>\n",
              "      <td>NaN</td>\n",
              "      <td>NaN</td>\n",
              "      <td>65</td>\n",
              "      <td>NaN</td>\n",
              "      <td>NaN</td>\n",
              "      <td>NaN</td>\n",
              "      <td>2018-08-15</td>\n",
              "    </tr>\n",
              "    <tr>\n",
              "      <th>3</th>\n",
              "      <td>6425850</td>\n",
              "      <td>Spacious, charming studio</td>\n",
              "      <td>32715865</td>\n",
              "      <td>Yelena</td>\n",
              "      <td>Manhattan, Upper West Side</td>\n",
              "      <td>40.79169, -73.97498</td>\n",
              "      <td>Entire home/apt</td>\n",
              "      <td>86$</td>\n",
              "      <td>5</td>\n",
              "      <td>2017-09-23</td>\n",
              "      <td>0.13</td>\n",
              "      <td>0</td>\n",
              "      <td>4.763203</td>\n",
              "      <td>6.0</td>\n",
              "      <td>0.769947</td>\n",
              "      <td>2017-03-20</td>\n",
              "    </tr>\n",
              "    <tr>\n",
              "      <th>4</th>\n",
              "      <td>22986519</td>\n",
              "      <td>Bedroom on the lively Lower East Side</td>\n",
              "      <td>154262349</td>\n",
              "      <td>Brooke</td>\n",
              "      <td>Manhattan, Lower East Side</td>\n",
              "      <td>40.71884, -73.98354</td>\n",
              "      <td>Private room</td>\n",
              "      <td>160$</td>\n",
              "      <td>23</td>\n",
              "      <td>2019-06-12</td>\n",
              "      <td>2.29</td>\n",
              "      <td>102</td>\n",
              "      <td>3.822591</td>\n",
              "      <td>27.6</td>\n",
              "      <td>0.649383</td>\n",
              "      <td>2020-10-23</td>\n",
              "    </tr>\n",
              "  </tbody>\n",
              "</table>\n",
              "</div>"
            ],
            "text/plain": [
              "   listing_id  ... listing_added\n",
              "0    13740704  ...    2018-06-08\n",
              "1    22005115  ...    2018-12-25\n",
              "2    21667615  ...    2018-08-15\n",
              "3     6425850  ...    2017-03-20\n",
              "4    22986519  ...    2020-10-23\n",
              "\n",
              "[5 rows x 16 columns]"
            ]
          },
          "metadata": {
            "tags": []
          },
          "execution_count": 16
        }
      ]
    },
    {
      "cell_type": "code",
      "metadata": {
        "id": "nvEKmdRun2Md",
        "colab_type": "code",
        "outputId": "09676874-521d-4cb0-a77a-a9dbee8d576a",
        "colab": {
          "base_uri": "https://localhost:8080/",
          "height": 202
        }
      },
      "source": [
        "# Split column into two\n",
        "lat_long = airbnb['coordinates'].str.split(\",\", expand=True)\n",
        "lat_long.head()\n"
      ],
      "execution_count": 0,
      "outputs": [
        {
          "output_type": "execute_result",
          "data": {
            "text/html": [
              "<div>\n",
              "<style scoped>\n",
              "    .dataframe tbody tr th:only-of-type {\n",
              "        vertical-align: middle;\n",
              "    }\n",
              "\n",
              "    .dataframe tbody tr th {\n",
              "        vertical-align: top;\n",
              "    }\n",
              "\n",
              "    .dataframe thead th {\n",
              "        text-align: right;\n",
              "    }\n",
              "</style>\n",
              "<table border=\"1\" class=\"dataframe\">\n",
              "  <thead>\n",
              "    <tr style=\"text-align: right;\">\n",
              "      <th></th>\n",
              "      <th>0</th>\n",
              "      <th>1</th>\n",
              "    </tr>\n",
              "  </thead>\n",
              "  <tbody>\n",
              "    <tr>\n",
              "      <th>0</th>\n",
              "      <td>40.63222</td>\n",
              "      <td>-73.93398</td>\n",
              "    </tr>\n",
              "    <tr>\n",
              "      <th>1</th>\n",
              "      <td>40.78761</td>\n",
              "      <td>-73.96862</td>\n",
              "    </tr>\n",
              "    <tr>\n",
              "      <th>2</th>\n",
              "      <td>40.7007</td>\n",
              "      <td>-73.99517</td>\n",
              "    </tr>\n",
              "    <tr>\n",
              "      <th>3</th>\n",
              "      <td>40.79169</td>\n",
              "      <td>-73.97498</td>\n",
              "    </tr>\n",
              "    <tr>\n",
              "      <th>4</th>\n",
              "      <td>40.71884</td>\n",
              "      <td>-73.98354</td>\n",
              "    </tr>\n",
              "  </tbody>\n",
              "</table>\n",
              "</div>"
            ],
            "text/plain": [
              "          0           1\n",
              "0  40.63222   -73.93398\n",
              "1  40.78761   -73.96862\n",
              "2   40.7007   -73.99517\n",
              "3  40.79169   -73.97498\n",
              "4  40.71884   -73.98354"
            ]
          },
          "metadata": {
            "tags": []
          },
          "execution_count": 18
        }
      ]
    },
    {
      "cell_type": "code",
      "metadata": {
        "id": "LezCKPzfn4yf",
        "colab_type": "code",
        "outputId": "57886104-0a59-45a0-f589-7570e96896af",
        "colab": {
          "base_uri": "https://localhost:8080/",
          "height": 482
        }
      },
      "source": [
        "# Assign correct columns to latitude and longitude columns in airbnb\n",
        "airbnb['latitude'] = lat_long[0]\n",
        "airbnb['longitude'] = lat_long[1]\n",
        "# Print the header and confirm new column creation\n",
        "airbnb.head()"
      ],
      "execution_count": 0,
      "outputs": [
        {
          "output_type": "execute_result",
          "data": {
            "text/html": [
              "<div>\n",
              "<style scoped>\n",
              "    .dataframe tbody tr th:only-of-type {\n",
              "        vertical-align: middle;\n",
              "    }\n",
              "\n",
              "    .dataframe tbody tr th {\n",
              "        vertical-align: top;\n",
              "    }\n",
              "\n",
              "    .dataframe thead th {\n",
              "        text-align: right;\n",
              "    }\n",
              "</style>\n",
              "<table border=\"1\" class=\"dataframe\">\n",
              "  <thead>\n",
              "    <tr style=\"text-align: right;\">\n",
              "      <th></th>\n",
              "      <th>listing_id</th>\n",
              "      <th>name</th>\n",
              "      <th>host_id</th>\n",
              "      <th>host_name</th>\n",
              "      <th>neighbourhood_full</th>\n",
              "      <th>coordinates</th>\n",
              "      <th>room_type</th>\n",
              "      <th>price</th>\n",
              "      <th>number_of_reviews</th>\n",
              "      <th>last_review</th>\n",
              "      <th>reviews_per_month</th>\n",
              "      <th>availability_365</th>\n",
              "      <th>rating</th>\n",
              "      <th>number_of_stays</th>\n",
              "      <th>5_stars</th>\n",
              "      <th>listing_added</th>\n",
              "      <th>latitude</th>\n",
              "      <th>longitude</th>\n",
              "    </tr>\n",
              "  </thead>\n",
              "  <tbody>\n",
              "    <tr>\n",
              "      <th>0</th>\n",
              "      <td>13740704</td>\n",
              "      <td>Cozy,budget friendly, cable inc, private entra...</td>\n",
              "      <td>20583125</td>\n",
              "      <td>Michel</td>\n",
              "      <td>Brooklyn, Flatlands</td>\n",
              "      <td>40.63222, -73.93398</td>\n",
              "      <td>Private room</td>\n",
              "      <td>45$</td>\n",
              "      <td>10</td>\n",
              "      <td>2018-12-12</td>\n",
              "      <td>0.70</td>\n",
              "      <td>85</td>\n",
              "      <td>4.100954</td>\n",
              "      <td>12.0</td>\n",
              "      <td>0.609432</td>\n",
              "      <td>2018-06-08</td>\n",
              "      <td>40.63222</td>\n",
              "      <td>-73.93398</td>\n",
              "    </tr>\n",
              "    <tr>\n",
              "      <th>1</th>\n",
              "      <td>22005115</td>\n",
              "      <td>Two floor apartment near Central Park</td>\n",
              "      <td>82746113</td>\n",
              "      <td>Cecilia</td>\n",
              "      <td>Manhattan, Upper West Side</td>\n",
              "      <td>40.78761, -73.96862</td>\n",
              "      <td>Entire home/apt</td>\n",
              "      <td>135$</td>\n",
              "      <td>1</td>\n",
              "      <td>2019-06-30</td>\n",
              "      <td>1.00</td>\n",
              "      <td>145</td>\n",
              "      <td>3.367600</td>\n",
              "      <td>1.2</td>\n",
              "      <td>0.746135</td>\n",
              "      <td>2018-12-25</td>\n",
              "      <td>40.78761</td>\n",
              "      <td>-73.96862</td>\n",
              "    </tr>\n",
              "    <tr>\n",
              "      <th>2</th>\n",
              "      <td>21667615</td>\n",
              "      <td>Beautiful 1BR in Brooklyn Heights</td>\n",
              "      <td>78251</td>\n",
              "      <td>Leslie</td>\n",
              "      <td>Brooklyn, Brooklyn Heights</td>\n",
              "      <td>40.7007, -73.99517</td>\n",
              "      <td>Entire home/apt</td>\n",
              "      <td>150$</td>\n",
              "      <td>0</td>\n",
              "      <td>NaN</td>\n",
              "      <td>NaN</td>\n",
              "      <td>65</td>\n",
              "      <td>NaN</td>\n",
              "      <td>NaN</td>\n",
              "      <td>NaN</td>\n",
              "      <td>2018-08-15</td>\n",
              "      <td>40.7007</td>\n",
              "      <td>-73.99517</td>\n",
              "    </tr>\n",
              "    <tr>\n",
              "      <th>3</th>\n",
              "      <td>6425850</td>\n",
              "      <td>Spacious, charming studio</td>\n",
              "      <td>32715865</td>\n",
              "      <td>Yelena</td>\n",
              "      <td>Manhattan, Upper West Side</td>\n",
              "      <td>40.79169, -73.97498</td>\n",
              "      <td>Entire home/apt</td>\n",
              "      <td>86$</td>\n",
              "      <td>5</td>\n",
              "      <td>2017-09-23</td>\n",
              "      <td>0.13</td>\n",
              "      <td>0</td>\n",
              "      <td>4.763203</td>\n",
              "      <td>6.0</td>\n",
              "      <td>0.769947</td>\n",
              "      <td>2017-03-20</td>\n",
              "      <td>40.79169</td>\n",
              "      <td>-73.97498</td>\n",
              "    </tr>\n",
              "    <tr>\n",
              "      <th>4</th>\n",
              "      <td>22986519</td>\n",
              "      <td>Bedroom on the lively Lower East Side</td>\n",
              "      <td>154262349</td>\n",
              "      <td>Brooke</td>\n",
              "      <td>Manhattan, Lower East Side</td>\n",
              "      <td>40.71884, -73.98354</td>\n",
              "      <td>Private room</td>\n",
              "      <td>160$</td>\n",
              "      <td>23</td>\n",
              "      <td>2019-06-12</td>\n",
              "      <td>2.29</td>\n",
              "      <td>102</td>\n",
              "      <td>3.822591</td>\n",
              "      <td>27.6</td>\n",
              "      <td>0.649383</td>\n",
              "      <td>2020-10-23</td>\n",
              "      <td>40.71884</td>\n",
              "      <td>-73.98354</td>\n",
              "    </tr>\n",
              "  </tbody>\n",
              "</table>\n",
              "</div>"
            ],
            "text/plain": [
              "   listing_id  ...   longitude\n",
              "0    13740704  ...   -73.93398\n",
              "1    22005115  ...   -73.96862\n",
              "2    21667615  ...   -73.99517\n",
              "3     6425850  ...   -73.97498\n",
              "4    22986519  ...   -73.98354\n",
              "\n",
              "[5 rows x 18 columns]"
            ]
          },
          "metadata": {
            "tags": []
          },
          "execution_count": 20
        }
      ]
    },
    {
      "cell_type": "code",
      "metadata": {
        "id": "toTHDWjFosXs",
        "colab_type": "code",
        "outputId": "3359448a-7412-4a95-e70e-9310b577873d",
        "colab": {
          "base_uri": "https://localhost:8080/",
          "height": 347
        }
      },
      "source": [
        "# Print out dtypes again\n",
        "airbnb.dtypes"
      ],
      "execution_count": 0,
      "outputs": [
        {
          "output_type": "execute_result",
          "data": {
            "text/plain": [
              "listing_id              int64\n",
              "name                   object\n",
              "host_id                 int64\n",
              "host_name              object\n",
              "neighbourhood_full     object\n",
              "coordinates            object\n",
              "room_type              object\n",
              "price                  object\n",
              "number_of_reviews       int64\n",
              "last_review            object\n",
              "reviews_per_month     float64\n",
              "availability_365        int64\n",
              "rating                float64\n",
              "number_of_stays       float64\n",
              "5_stars               float64\n",
              "listing_added          object\n",
              "latitude               object\n",
              "longitude              object\n",
              "dtype: object"
            ]
          },
          "metadata": {
            "tags": []
          },
          "execution_count": 21
        }
      ]
    },
    {
      "cell_type": "code",
      "metadata": {
        "id": "8zDpaIqDoeNl",
        "colab_type": "code",
        "outputId": "a62aeed6-34f5-408f-96f3-fa7fd10f9ef0",
        "colab": {
          "base_uri": "https://localhost:8080/",
          "height": 347
        }
      },
      "source": [
        "# Convert latitude and longitude to float\n",
        "airbnb['latitude'] = airbnb['latitude'].astype('float')\n",
        "airbnb['longitude'] = airbnb['longitude'].astype('float')\n",
        "# Print dtypes again\n",
        "airbnb.dtypes"
      ],
      "execution_count": 0,
      "outputs": [
        {
          "output_type": "execute_result",
          "data": {
            "text/plain": [
              "listing_id              int64\n",
              "name                   object\n",
              "host_id                 int64\n",
              "host_name              object\n",
              "neighbourhood_full     object\n",
              "coordinates            object\n",
              "room_type              object\n",
              "price                  object\n",
              "number_of_reviews       int64\n",
              "last_review            object\n",
              "reviews_per_month     float64\n",
              "availability_365        int64\n",
              "rating                float64\n",
              "number_of_stays       float64\n",
              "5_stars               float64\n",
              "listing_added          object\n",
              "latitude              float64\n",
              "longitude             float64\n",
              "dtype: object"
            ]
          },
          "metadata": {
            "tags": []
          },
          "execution_count": 23
        }
      ]
    },
    {
      "cell_type": "code",
      "metadata": {
        "id": "aKZGhJQRo8mp",
        "colab_type": "code",
        "colab": {}
      },
      "source": [
        "# Drop coordinates column\n",
        "airbnb.drop('coordinates', axis=1, inplace=True)"
      ],
      "execution_count": 0,
      "outputs": []
    },
    {
      "cell_type": "markdown",
      "metadata": {
        "id": "bkgGPHpdpMEW",
        "colab_type": "text"
      },
      "source": [
        "##### **Task 2:** Remove `$` from `price` and convert it to `float`"
      ]
    },
    {
      "cell_type": "markdown",
      "metadata": {
        "id": "9jkKFojOmJy5",
        "colab_type": "text"
      },
      "source": [
        "To perform this task, we will be using the following methods:\n",
        "\n",
        "- `.str.strip()` which removes a specified string from each row in a column\n",
        "- `.astype()`"
      ]
    },
    {
      "cell_type": "code",
      "metadata": {
        "id": "Ya76gXP1qLtn",
        "colab_type": "code",
        "colab": {}
      },
      "source": [
        "# Calculate mean of price without conversion"
      ],
      "execution_count": 0,
      "outputs": []
    },
    {
      "cell_type": "code",
      "metadata": {
        "id": "gHIB5d-1pdIO",
        "colab_type": "code",
        "outputId": "10c26ee3-5c71-49b9-9f4d-2e46f73d7145",
        "colab": {
          "base_uri": "https://localhost:8080/",
          "height": 121
        }
      },
      "source": [
        "# Remove $ from price before conversion to float\n",
        "airbnb['price'] =airbnb['price'].str.strip(\"$\")\n",
        "# Print header to make sure change was done\n",
        "airbnb['price'].head()"
      ],
      "execution_count": 0,
      "outputs": [
        {
          "output_type": "execute_result",
          "data": {
            "text/plain": [
              "0     45\n",
              "1    135\n",
              "2    150\n",
              "3     86\n",
              "4    160\n",
              "Name: price, dtype: object"
            ]
          },
          "metadata": {
            "tags": []
          },
          "execution_count": 27
        }
      ]
    },
    {
      "cell_type": "code",
      "metadata": {
        "id": "Gz4Q2xoGp4AJ",
        "colab_type": "code",
        "colab": {}
      },
      "source": [
        "# Convert price to float\n",
        "\n",
        "# Calculate mean of price after conversion\n"
      ],
      "execution_count": 0,
      "outputs": []
    },
    {
      "cell_type": "code",
      "metadata": {
        "id": "mSLxGradqVix",
        "colab_type": "code",
        "colab": {}
      },
      "source": [
        "# Visualize distribution of prices\n",
        "\n"
      ],
      "execution_count": 0,
      "outputs": []
    },
    {
      "cell_type": "markdown",
      "metadata": {
        "id": "HZKW5mWvqg2Z",
        "colab_type": "text"
      },
      "source": [
        "##### **Task 3:** Convert `listing_added` and `last_review` columns to `datetime`"
      ]
    },
    {
      "cell_type": "markdown",
      "metadata": {
        "id": "9ijLZ4zwmWNS",
        "colab_type": "text"
      },
      "source": [
        "To perform this task, we will use the following functions:\n",
        "\n",
        "- `pd.to_datetime(format = \"\")`\n",
        "  - `format` takes in the desired date format `\"%Y-%m-%d\"`"
      ]
    },
    {
      "cell_type": "code",
      "metadata": {
        "id": "cggG5Bucqc6T",
        "colab_type": "code",
        "colab": {}
      },
      "source": [
        "# Print header of two columns\n"
      ],
      "execution_count": 0,
      "outputs": []
    },
    {
      "cell_type": "code",
      "metadata": {
        "id": "9lVyr6-Gs19z",
        "colab_type": "code",
        "colab": {}
      },
      "source": [
        "# Convert both columns to datetime\n",
        "\n"
      ],
      "execution_count": 0,
      "outputs": []
    },
    {
      "cell_type": "code",
      "metadata": {
        "id": "jlVDTYUvtG1f",
        "colab_type": "code",
        "colab": {}
      },
      "source": [
        "# Print header and datatypes of both columns again\n",
        "\n"
      ],
      "execution_count": 0,
      "outputs": []
    },
    {
      "cell_type": "markdown",
      "metadata": {
        "id": "SvMs1y6gucs6",
        "colab_type": "text"
      },
      "source": [
        "### Text and categorical data problems"
      ]
    },
    {
      "cell_type": "markdown",
      "metadata": {
        "id": "Z19JboeNukIS",
        "colab_type": "text"
      },
      "source": [
        "##### **Task 4:** We need to collapse `room_type` into correct categories"
      ]
    },
    {
      "cell_type": "markdown",
      "metadata": {
        "id": "85lW-8k_msaY",
        "colab_type": "text"
      },
      "source": [
        "To perform this task, we will be using the following methods:\n",
        "\n",
        "- `.str.lower()` to lowercase all rows in a string column\n",
        "- `.str.strip()` to remove all white spaces of each row in a string column\n",
        "- `.replace()` to replace values in a column with another"
      ]
    },
    {
      "cell_type": "code",
      "metadata": {
        "id": "hPJHPWB4tOlP",
        "colab_type": "code",
        "colab": {}
      },
      "source": [
        "# Print unique values of `room_type`\n"
      ],
      "execution_count": 0,
      "outputs": []
    },
    {
      "cell_type": "code",
      "metadata": {
        "id": "HwnSnaPEvncy",
        "colab_type": "code",
        "colab": {}
      },
      "source": [
        "# Deal with capitalized values\n",
        "\n"
      ],
      "execution_count": 0,
      "outputs": []
    },
    {
      "cell_type": "code",
      "metadata": {
        "id": "u47Ws-GtvvrC",
        "colab_type": "code",
        "colab": {}
      },
      "source": [
        "# Deal with trailing spaces\n",
        "\n"
      ],
      "execution_count": 0,
      "outputs": []
    },
    {
      "cell_type": "code",
      "metadata": {
        "id": "tYyyzZ2pwMtx",
        "colab_type": "code",
        "colab": {}
      },
      "source": [
        "# Replace values to 'Shared room', 'Entire place', 'Private room' and 'Hotel room' (if applicable).\n",
        "\n",
        "\n",
        "\n",
        "\n",
        "\n",
        "\n",
        "# Replace values and collapse data\n",
        "\n"
      ],
      "execution_count": 0,
      "outputs": []
    },
    {
      "cell_type": "markdown",
      "metadata": {
        "id": "VA_2KMIkxjhL",
        "colab_type": "text"
      },
      "source": [
        "##### **Task 5:** Divide `neighbourhood_full` into 2 columns and making sure they are clean"
      ]
    },
    {
      "cell_type": "code",
      "metadata": {
        "id": "Nc3u9b57xKOu",
        "colab_type": "code",
        "colab": {}
      },
      "source": [
        "# Print header of column\n"
      ],
      "execution_count": 0,
      "outputs": []
    },
    {
      "cell_type": "code",
      "metadata": {
        "id": "88O9T3WYxreo",
        "colab_type": "code",
        "colab": {}
      },
      "source": [
        "# Split neighbourhood_full\n",
        "\n"
      ],
      "execution_count": 0,
      "outputs": []
    },
    {
      "cell_type": "code",
      "metadata": {
        "id": "mmKhwDxkypDJ",
        "colab_type": "code",
        "colab": {}
      },
      "source": [
        "# Create borough and neighbourhood columns\n",
        "\n",
        "\n",
        "# Print header of columns\n"
      ],
      "execution_count": 0,
      "outputs": []
    },
    {
      "cell_type": "code",
      "metadata": {
        "id": "SnflzqkwzCnt",
        "colab_type": "code",
        "colab": {}
      },
      "source": [
        "# Drop neighbourhood_full column\n"
      ],
      "execution_count": 0,
      "outputs": []
    },
    {
      "cell_type": "code",
      "metadata": {
        "id": "NJqrhMlNzNxk",
        "colab_type": "code",
        "colab": {}
      },
      "source": [
        "# Print out unique values of borough and neighbourhood\n",
        "\n"
      ],
      "execution_count": 0,
      "outputs": []
    },
    {
      "cell_type": "code",
      "metadata": {
        "id": "sIC_fuLRz-en",
        "colab_type": "code",
        "colab": {}
      },
      "source": [
        "# Strip white space from neighbourhood column\n",
        "\n",
        "# Print unique values again\n"
      ],
      "execution_count": 0,
      "outputs": []
    },
    {
      "cell_type": "markdown",
      "metadata": {
        "id": "iFUQqbRp1lil",
        "colab_type": "text"
      },
      "source": [
        "##### **Task 6:** Make sure we set the correct maximum for `rating` column out of range values"
      ]
    },
    {
      "cell_type": "code",
      "metadata": {
        "id": "Bacl6XSU1zyD",
        "colab_type": "code",
        "colab": {}
      },
      "source": [
        "# Visualize the rating column again\n",
        "\n"
      ],
      "execution_count": 0,
      "outputs": []
    },
    {
      "cell_type": "code",
      "metadata": {
        "id": "toWXIeUx2C0o",
        "colab_type": "code",
        "colab": {}
      },
      "source": [
        "# Isolate rows of rating > 5.0\n"
      ],
      "execution_count": 0,
      "outputs": []
    },
    {
      "cell_type": "code",
      "metadata": {
        "id": "O6GzdjlP2JZN",
        "colab_type": "code",
        "colab": {}
      },
      "source": [
        "# Drop these rows and make sure we have effected changes\n"
      ],
      "execution_count": 0,
      "outputs": []
    },
    {
      "cell_type": "code",
      "metadata": {
        "id": "sjlhjthu3NIP",
        "colab_type": "code",
        "colab": {}
      },
      "source": [
        "# Visualize the rating column again\n",
        "\n"
      ],
      "execution_count": 0,
      "outputs": []
    },
    {
      "cell_type": "code",
      "metadata": {
        "id": "ll1KvVJX4Pd3",
        "colab_type": "code",
        "colab": {}
      },
      "source": [
        "# Get the maximum\n"
      ],
      "execution_count": 0,
      "outputs": []
    },
    {
      "cell_type": "markdown",
      "metadata": {
        "id": "z21NCGFC04Xl",
        "colab_type": "text"
      },
      "source": [
        "## **Q&A**"
      ]
    },
    {
      "cell_type": "markdown",
      "metadata": {
        "id": "32vk2-Vn5l3Z",
        "colab_type": "text"
      },
      "source": [
        "### Dealing with missing data"
      ]
    },
    {
      "cell_type": "markdown",
      "metadata": {
        "id": "b2K5RQJLlXvf",
        "colab_type": "text"
      },
      "source": [
        "The `missingno` (imported as `msno`) package is great for visualizing missing data - we will be using:\n",
        "\n",
        "- `msno.matrix()` visualizes a missingness matrix\n",
        "- `msno.bar()` visualizes a missngness barplot\n",
        "- `plt.show()` to show the plot"
      ]
    },
    {
      "cell_type": "code",
      "metadata": {
        "id": "spvUQz2K4U4x",
        "colab_type": "code",
        "colab": {}
      },
      "source": [
        "# Visualize the missingness \n",
        "\n"
      ],
      "execution_count": 0,
      "outputs": []
    },
    {
      "cell_type": "code",
      "metadata": {
        "id": "G9QLtSbx7pCW",
        "colab_type": "code",
        "colab": {}
      },
      "source": [
        "# Visualize the missingness on sorted values\n",
        "\n"
      ],
      "execution_count": 0,
      "outputs": []
    },
    {
      "cell_type": "code",
      "metadata": {
        "id": "W5vfZi03RwwY",
        "colab_type": "code",
        "colab": {}
      },
      "source": [
        "# Missingness barplot\n"
      ],
      "execution_count": 0,
      "outputs": []
    },
    {
      "cell_type": "markdown",
      "metadata": {
        "id": "27XSigJyg8Di",
        "colab_type": "text"
      },
      "source": [
        "**Treating the** `rating`, `number_of_stays`, `5_stars`, `reviews_per_month` **columns**"
      ]
    },
    {
      "cell_type": "code",
      "metadata": {
        "id": "pKuLIznfSv3H",
        "colab_type": "code",
        "colab": {}
      },
      "source": [
        "# Understand DataFrame with missing values in rating, number_of_stays, 5_stars, reviews_per_month\n"
      ],
      "execution_count": 0,
      "outputs": []
    },
    {
      "cell_type": "code",
      "metadata": {
        "id": "ij5BmX2gTnrW",
        "colab_type": "code",
        "colab": {}
      },
      "source": [
        "# Understand DataFrame with missing values in rating, number_of_stays, 5_stars, reviews_per_month\n"
      ],
      "execution_count": 0,
      "outputs": []
    },
    {
      "cell_type": "code",
      "metadata": {
        "id": "tuRNdMvungIq",
        "colab_type": "code",
        "colab": {}
      },
      "source": [
        "# Impute missing data\n",
        "\n",
        "\n",
        "\n",
        "\n",
        "# Create is_rated column\n",
        "\n"
      ],
      "execution_count": 0,
      "outputs": []
    },
    {
      "cell_type": "markdown",
      "metadata": {
        "id": "lsPP28Xzg9_z",
        "colab_type": "text"
      },
      "source": [
        "**Treating the** `price` **column**"
      ]
    },
    {
      "cell_type": "code",
      "metadata": {
        "id": "lLJJG-SmYLh7",
        "colab_type": "code",
        "colab": {}
      },
      "source": [
        "# Investigate DataFrame with missing values in price\n"
      ],
      "execution_count": 0,
      "outputs": []
    },
    {
      "cell_type": "code",
      "metadata": {
        "id": "dluvKIkXr3yV",
        "colab_type": "code",
        "colab": {}
      },
      "source": [
        "# Investigate DataFrame with missing values in price\n"
      ],
      "execution_count": 0,
      "outputs": []
    },
    {
      "cell_type": "markdown",
      "metadata": {
        "id": "qxAJtTZ4hEtv",
        "colab_type": "text"
      },
      "source": [
        "From a common sense perspective, the most predictive factor for a room's price is the `room_type` column, so let's visualize how price varies by room type with `sns.boxplot()` which displays the following information:\n",
        "\n",
        "\n",
        "<p align=\"center\">\n",
        "<img src=\"https://github.com/adelnehme/cleaning-data-in-python-live-training/blob/master/boxplot.png?raw=true\" alt = \"DataCamp icon\" width=\"80%\">\n",
        "</p>\n",
        "\n",
        "\n"
      ]
    },
    {
      "cell_type": "code",
      "metadata": {
        "id": "CdHj-mMDtgRE",
        "colab_type": "code",
        "colab": {}
      },
      "source": [
        "# Visualize relationship between price and room_type\n",
        "\n",
        "\n",
        "\n",
        "\n"
      ],
      "execution_count": 0,
      "outputs": []
    },
    {
      "cell_type": "code",
      "metadata": {
        "id": "GzAmpxWzsqRb",
        "colab_type": "code",
        "colab": {}
      },
      "source": [
        "# Get median price per room_type\n"
      ],
      "execution_count": 0,
      "outputs": []
    },
    {
      "cell_type": "code",
      "metadata": {
        "id": "AmaKYXPRypq7",
        "colab_type": "code",
        "colab": {}
      },
      "source": [
        "# Impute price based on conditions\n",
        "\n",
        "\n"
      ],
      "execution_count": 0,
      "outputs": []
    },
    {
      "cell_type": "code",
      "metadata": {
        "id": "bTJafaijzDkc",
        "colab_type": "code",
        "colab": {}
      },
      "source": [
        "# Confirm price has been imputed\n"
      ],
      "execution_count": 0,
      "outputs": []
    },
    {
      "cell_type": "markdown",
      "metadata": {
        "id": "VnxYYabO0Bdt",
        "colab_type": "text"
      },
      "source": [
        "### What's still to be done?"
      ]
    },
    {
      "cell_type": "markdown",
      "metadata": {
        "id": "q2cyXCxk0VP3",
        "colab_type": "text"
      },
      "source": [
        "Albeit we've done a significant amount of data cleaning tasks, there are still a couple of problems we have yet to diagnose. When cleaning data, we need to consider:\n",
        "\n",
        "- Values that do not make any sense *(for example: are there values of `last_review` that older than `listing_added`? Are there listings in the future?*)\n",
        "- Presence of duplicates values - and how to deal with them?"
      ]
    },
    {
      "cell_type": "markdown",
      "metadata": {
        "id": "KGpasg3L6Je4",
        "colab_type": "text"
      },
      "source": [
        "##### **Task 8:** Do we have consistent date data?"
      ]
    },
    {
      "cell_type": "code",
      "metadata": {
        "id": "jT_hz8Dj0EhB",
        "colab_type": "code",
        "colab": {}
      },
      "source": [
        "# Doing some sanity checks on date data\n"
      ],
      "execution_count": 0,
      "outputs": []
    },
    {
      "cell_type": "code",
      "metadata": {
        "id": "pUKi4Dbi27Zb",
        "colab_type": "code",
        "colab": {}
      },
      "source": [
        "# Are there reviews in the future?\n"
      ],
      "execution_count": 0,
      "outputs": []
    },
    {
      "cell_type": "code",
      "metadata": {
        "id": "dZO_yoOZ2-jf",
        "colab_type": "code",
        "colab": {}
      },
      "source": [
        "# Are there listings in the future?\n"
      ],
      "execution_count": 0,
      "outputs": []
    },
    {
      "cell_type": "code",
      "metadata": {
        "id": "3xJUlJFm3cmc",
        "colab_type": "code",
        "colab": {}
      },
      "source": [
        "# Drop these rows since they are only 4 rows\n"
      ],
      "execution_count": 0,
      "outputs": []
    },
    {
      "cell_type": "code",
      "metadata": {
        "id": "BvqMxmux4e_Q",
        "colab_type": "code",
        "colab": {}
      },
      "source": [
        "# Are there any listings with listing_added > last_review\n",
        "\n"
      ],
      "execution_count": 0,
      "outputs": []
    },
    {
      "cell_type": "code",
      "metadata": {
        "id": "cCziTT7T4xbT",
        "colab_type": "code",
        "colab": {}
      },
      "source": [
        "# Drop these rows since they are only 2 rows\n"
      ],
      "execution_count": 0,
      "outputs": []
    },
    {
      "cell_type": "markdown",
      "metadata": {
        "id": "JD1ChXPF6BR7",
        "colab_type": "text"
      },
      "source": [
        "##### **Task 9:** Let's deal with duplicate data"
      ]
    },
    {
      "cell_type": "markdown",
      "metadata": {
        "id": "hz9oQHyt8KmO",
        "colab_type": "text"
      },
      "source": [
        "\n",
        "There are two notable types of duplicate data:\n",
        "\n",
        "- Identical duplicate data across all columns\n",
        "- Identical duplicate data cross most or some columns\n",
        "\n",
        "To diagnose, and deal with duplicate data, we will be using the following methods and functions:\n",
        "\n",
        "- `.duplicated(subset = , keep = )`\n",
        "  - `subset` lets us pick one or more columns with duplicate values.\n",
        "  - `keep` returns lets us return all instances of duplicate values.\n",
        "- `.drop_duplicates(subset = , keep = )`\n",
        "  "
      ]
    },
    {
      "cell_type": "code",
      "metadata": {
        "id": "_m3Gdg7x6ATJ",
        "colab_type": "code",
        "colab": {}
      },
      "source": [
        "# Print the header of the DataFrame again\n"
      ],
      "execution_count": 0,
      "outputs": []
    },
    {
      "cell_type": "code",
      "metadata": {
        "id": "EzT8q3SCIW7w",
        "colab_type": "code",
        "colab": {}
      },
      "source": [
        "# Find duplicates\n",
        "\n"
      ],
      "execution_count": 0,
      "outputs": []
    },
    {
      "cell_type": "code",
      "metadata": {
        "id": "pqVxdea4Ik5g",
        "colab_type": "code",
        "colab": {}
      },
      "source": [
        "# Find duplicates\n"
      ],
      "execution_count": 0,
      "outputs": []
    },
    {
      "cell_type": "code",
      "metadata": {
        "id": "uSXEpMFlJCJc",
        "colab_type": "code",
        "colab": {}
      },
      "source": [
        "# Remove identical duplicates\n"
      ],
      "execution_count": 0,
      "outputs": []
    },
    {
      "cell_type": "code",
      "metadata": {
        "id": "nYf1M1cNKIIN",
        "colab_type": "code",
        "colab": {}
      },
      "source": [
        "# Find non-identical duplicates\n"
      ],
      "execution_count": 0,
      "outputs": []
    },
    {
      "cell_type": "code",
      "metadata": {
        "id": "wiN1SBw8Kizr",
        "colab_type": "code",
        "colab": {}
      },
      "source": [
        "# Show all duplicates\n"
      ],
      "execution_count": 0,
      "outputs": []
    },
    {
      "cell_type": "markdown",
      "metadata": {
        "id": "E6_O2EYkcGoF",
        "colab_type": "text"
      },
      "source": [
        "To treat identical duplicates across some columns, we will chain the `.groupby()` and `.agg()` methods where we group by the column used to find duplicates (`listing_id`) and aggregate across statistical measures for `price`, `rating` and `list_added`. The `.agg()` method takes in a dictionary with each column's aggregation method - we will use the following aggregations:\n",
        "\n",
        "- `mean` for `price` and `rating` columns\n",
        "- `max` for `listing_added` column\n",
        "- `first` for all remaining column\n",
        "\n",
        "*A note on dictionary comprehensions:*\n",
        "\n",
        "Dictionaries are useful data structures in Python with the following format\n",
        "`my_dictionary = {key: value}` where a `key` is mapped to a `value` and whose `value` can be returned with `my_dictionary[key]` - dictionary comprehensions allow us to programmatically create dicitonaries using the structure:\n",
        "\n",
        "```\n",
        "{x: x*2 for x in [1,2,3,4,5]} \n",
        "{1:2, 2:4, 3:6, 4:8, 5:10}\n",
        "```"
      ]
    },
    {
      "cell_type": "code",
      "metadata": {
        "id": "v7l82ErIqO1-",
        "colab_type": "code",
        "colab": {}
      },
      "source": [
        "# Get column names from airbnb\n",
        "\n"
      ],
      "execution_count": 0,
      "outputs": []
    },
    {
      "cell_type": "code",
      "metadata": {
        "id": "CxCJ3xPbKmJg",
        "colab_type": "code",
        "colab": {}
      },
      "source": [
        "# Create dictionary comprehension with 'first' as value for all columns not being aggregated\n",
        "\n",
        "\n",
        "\n",
        "\n"
      ],
      "execution_count": 0,
      "outputs": []
    },
    {
      "cell_type": "code",
      "metadata": {
        "id": "jaS5j-KsRUD-",
        "colab_type": "code",
        "colab": {}
      },
      "source": [
        "# Remove non-identical duplicates\n"
      ],
      "execution_count": 0,
      "outputs": []
    },
    {
      "cell_type": "code",
      "metadata": {
        "id": "q93L6waFWpTq",
        "colab_type": "code",
        "colab": {}
      },
      "source": [
        "# Make sure no duplication happened\n"
      ],
      "execution_count": 0,
      "outputs": []
    },
    {
      "cell_type": "code",
      "metadata": {
        "id": "ZmIRBaZgW4q2",
        "colab_type": "code",
        "colab": {}
      },
      "source": [
        "# Print header of DataFrame\n"
      ],
      "execution_count": 0,
      "outputs": []
    },
    {
      "cell_type": "markdown",
      "metadata": {
        "id": "nR5oNXyd0vkx",
        "colab_type": "text"
      },
      "source": [
        "## **Q&A**"
      ]
    },
    {
      "cell_type": "markdown",
      "metadata": {
        "id": "zaF7ZDbzA6P7",
        "colab_type": "text"
      },
      "source": [
        "### Take home question\n",
        "\n",
        "Try to answer the following questions about the dataset:\n",
        "\n",
        "- What is the average price of listings by borough? Visualize your results with a bar plot!\n",
        "- What is the average availability in days of listings by borough? Visualize your results with a bar plot!\n",
        "- What is the median price per room type in each borough? Visualize your results with a bar plot!\n",
        "- Visualize the number of listings over time.\n",
        "\n",
        "**Functions that should/could be used:**\n",
        "- `.groupby()` and `.agg(})`\n",
        "- `sns.barplot(x = , y = , hue = , data = )`\n",
        "- `sns.lineplot(x = , y = , data = )`\n",
        "- `.dt.strftime()` for extracting specific dates from a `datetime` column\n",
        "\n",
        "**Bonus points if:**\n",
        "- You finish more than one question\n",
        "\n",
        "**Submission details:**\n",
        "- Share with us a code snippet with your output on LinkedIn, Twitter or Facebook\n",
        "- Tag us on `@DataCamp` with the hashtag `#datacamplive`\n"
      ]
    },
    {
      "cell_type": "code",
      "metadata": {
        "id": "ap34HIhvfr3K",
        "colab_type": "code",
        "colab": {}
      },
      "source": [
        ""
      ],
      "execution_count": 0,
      "outputs": []
    }
  ]
}